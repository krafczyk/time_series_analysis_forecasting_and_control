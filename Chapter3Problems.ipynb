{
 "cells": [
  {
   "cell_type": "code",
   "execution_count": 1,
   "metadata": {},
   "outputs": [],
   "source": [
    "import matplotlib.pyplot as plt\n",
    "import numpy as np\n",
    "import sympy as sp\n",
    "import time_series as ts\n",
    "#import IPython\n",
    "import IPython.display as ipydisp"
   ]
  },
  {
   "cell_type": "markdown",
   "metadata": {},
   "source": [
    "# Chapter 3 Problems"
   ]
  },
  {
   "cell_type": "markdown",
   "metadata": {},
   "source": [
    "## 3.1\n",
    "\n",
    "Write the following models in $B$ notation.\n",
    "\n",
    "1) $\\tilde{z}_t - 0.6\\tilde{z}_{t-1} = a_t$\n",
    "\n",
    "2) $\\tilde{z}_t = a_t - 1.3a_{t-1} + 0.5a_{t-2}$\n",
    "\n",
    "3) $\\tilde{z}_t - 0.6\\tilde{z}_{t-1} = a_t - 1.3a_{t-1} + 0.4a_{t-2}$\n",
    "***"
   ]
  },
  {
   "cell_type": "code",
   "execution_count": 3,
   "metadata": {},
   "outputs": [],
   "source": [
    "B_lag = ts.LagOperator('B_{lag}')\n",
    "B = sp.Symbol('B')\n",
    "zt = ts.TimeSeriesSymbol(r'\\tilde{z}')\n",
    "at = ts.TimeSeriesSymbol(r'a')\n",
    "model_funcs = []\n",
    "model_funcs.append((1-0.6*B,1))\n",
    "model_funcs.append((1,1-1.3*B+0.5*B**2))\n",
    "model_funcs.append((1-0.6*B,1-1.3*B+0.4*B**2))"
   ]
  },
  {
   "cell_type": "code",
   "execution_count": 4,
   "metadata": {},
   "outputs": [
    {
     "data": {
      "text/markdown": [
       "1) $\\left(1 - 0.6 B\\right) \\tilde{z}_t = a_{t}$ \n",
       "\n",
       "2) $\\tilde{z}_t = \\left(0.5 B^{2} - 1.3 B + 1\\right) a_{t}$ \n",
       "\n",
       "3) $\\left(1 - 0.6 B\\right) \\tilde{z}_t = \\left(0.4 B^{2} - 1.3 B + 1\\right) a_{t}$ \n",
       "\n"
      ],
      "text/plain": [
       "<IPython.core.display.Markdown object>"
      ]
     },
     "metadata": {},
     "output_type": "display_data"
    }
   ],
   "source": [
    "markdown_str = \"\"\n",
    "\n",
    "for i in range(len(model_funcs)):\n",
    "    markdown_str += f\"{i+1}) $\"+sp.latex(sp.Eq(model_funcs[i][0]*zt, model_funcs[i][1]*at))+\"$ \\n\\n\"\n",
    "\n",
    "ipydisp.display(ipydisp.Markdown(markdown_str))"
   ]
  },
  {
   "cell_type": "markdown",
   "metadata": {},
   "source": [
    "## 3.2\n",
    "\n",
    "For each of the models in Exercise 3.1, obtain:\n",
    "\n",
    "a) The first four $\\psi$ weights\n",
    "\n",
    "b) The first four $\\pi$ weights\n",
    "\n",
    "c) The covariance generating function\n",
    "\n",
    "d) The first four autocorrelations\n",
    "\n",
    "e) The variance of $\\tilde{z}_t$ assuming that $\\sigma_a^2 = 1.0$"
   ]
  },
  {
   "cell_type": "code",
   "execution_count": 16,
   "metadata": {},
   "outputs": [
    {
     "name": "stdout",
     "output_type": "stream",
     "text": [
      "0.216000000000000\n",
      "0\n",
      "-0.0120000000000000\n"
     ]
    }
   ],
   "source": [
    "# a (psi)\n",
    "results = \"\"\n",
    "for i in range(len(model_funcs)):\n",
    "    psi = sp.series(model_funcs[i][1]/model_funcs[i][0], B, n=4).removeO()\n",
    "    \n",
    "    coeffs = [ psi.coeff(B, j) for j in range(4) ]\n",
    "    \n",
    "        \n",
    "    \n",
    "    print(psi.coeff(B,3))\n",
    "    "
   ]
  },
  {
   "cell_type": "code",
   "execution_count": null,
   "metadata": {},
   "outputs": [],
   "source": []
  }
 ],
 "metadata": {
  "kernelspec": {
   "display_name": "Python 3",
   "language": "python",
   "name": "python3"
  },
  "language_info": {
   "codemirror_mode": {
    "name": "ipython",
    "version": 3
   },
   "file_extension": ".py",
   "mimetype": "text/x-python",
   "name": "python",
   "nbconvert_exporter": "python",
   "pygments_lexer": "ipython3",
   "version": "3.7.4"
  }
 },
 "nbformat": 4,
 "nbformat_minor": 2
}
