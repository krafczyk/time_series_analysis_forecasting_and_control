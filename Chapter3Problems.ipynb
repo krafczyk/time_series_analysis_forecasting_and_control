{
 "cells": [
  {
   "cell_type": "code",
   "execution_count": 1,
   "metadata": {},
   "outputs": [],
   "source": [
    "import matplotlib.pyplot as plt\n",
    "import numpy as np\n",
    "from sympy import summation, Function, S, Abs, Eq, latex, Symbol"
   ]
  },
  {
   "cell_type": "markdown",
   "metadata": {},
   "source": [
    "# Chapter 3 Problems"
   ]
  },
  {
   "cell_type": "markdown",
   "metadata": {},
   "source": [
    "## 3.1\n",
    "\n",
    "Write the following models in $B$ notation.\n",
    "\n",
    "1) $\\tilde{z}_t - 0.6\\tilde{z}_{t-1} = a_t$\n",
    "\n",
    "2) $\\tilde{z}_t = a_t - 1.3a_{t-1} + 0.5a_{t-2}$\n",
    "\n",
    "3) $\\tilde{z}_t - 0.6\\tilde{z}_{t-1} = a_t - 1.3a_{t-1} + 0.4a_{t-2}$\n",
    "***"
   ]
  },
  {
   "cell_type": "code",
   "execution_count": 2,
   "metadata": {},
   "outputs": [],
   "source": [
    "B = Symbol('B')\n",
    "zt = Symbol('\\tilde{z}_t')\n",
    "at = Symbol('a_t')\n",
    "model_funcs = []\n",
    "model_funcs.append((1-0.6*B,1))\n",
    "model_funcs.append((1,1-1.3*B+0.5*B**2))\n",
    "model_funcs.append((1-0.6*B,1-1.3*B+0.4*B**2))\n"
   ]
  },
  {
   "cell_type": "markdown",
   "metadata": {},
   "source": [
    "1) $(1-0.6B)\\tilde{z}_t = a_t$\n",
    "\n",
    "2) $\\tilde{z}_t = (1-1.3B+0.5B^2)a_t$\n",
    "\n",
    "3) $(1-0.6B)\\tilde{z}_t = (1-1.3B+0.4B^2)a_t$"
   ]
  },
  {
   "cell_type": "markdown",
   "metadata": {},
   "source": [
    "## 3.2\n",
    "\n",
    "For each of the models in Exercise 3.1, obtain:\n",
    "\n",
    "a) The first four $\\psi$ weights\n",
    "\n",
    "b) The first four $\\pi$ weights\n",
    "\n",
    "c) The covariance generating function\n",
    "\n",
    "d) The first four autocorrelations\n",
    "\n",
    "e) The variance of $\\tilde{z}_t$ assuming that $\\sigma_a^2 = 1.0$"
   ]
  },
  {
   "cell_type": "code",
   "execution_count": null,
   "metadata": {},
   "outputs": [],
   "source": []
  }
 ],
 "metadata": {
  "kernelspec": {
   "display_name": "Python 3",
   "language": "python",
   "name": "python3"
  },
  "language_info": {
   "codemirror_mode": {
    "name": "ipython",
    "version": 3
   },
   "file_extension": ".py",
   "mimetype": "text/x-python",
   "name": "python",
   "nbconvert_exporter": "python",
   "pygments_lexer": "ipython3",
   "version": "3.7.4"
  }
 },
 "nbformat": 4,
 "nbformat_minor": 2
}
